{
  "nbformat": 4,
  "nbformat_minor": 0,
  "metadata": {
    "colab": {
      "name": "MTL782_Assignment1.ipynb",
      "provenance": [],
      "collapsed_sections": [],
      "toc_visible": true
    },
    "kernelspec": {
      "name": "python3",
      "display_name": "Python 3"
    },
    "accelerator": "GPU"
  },
  "cells": [
    {
      "cell_type": "markdown",
      "metadata": {
        "id": "AA0JHZ9_iehE"
      },
      "source": [
        "# (I) Dataset Description:\n",
        "\n",
        "### **Task**:\n",
        "Collisions at high-energy particle colliders are a traditionally fruitful source of exotic particle discoveries. Finding these rare particles requires solving difficult signal-versus-background classification problems, hence machine learning approaches are often used. The vast majority of particle collisions do not produce exotic particles. Therefore, good data analysis depends on distinguishing collisions which produce particles of interest (signal) from those producing other particles (background).\n",
        " \n",
        "### **Data**:\n",
        "The data has been produced using Monte Carlo simulations. The first 8 features are kinematic properties measured by the particle detectors in the accelerator. The last ten features are functions of the first 8 features; these are high-level features derived by physicists to help discriminate between the two classes. \n",
        "\n",
        "### **Attribute Information**:\n",
        "The first column is the class label (1 for signal, 0 for background), followed by 18 features (8 low-level features then 10 high-level features). These features are derived physically and are as follows\n",
        "1.      lepton 1 pT\n",
        "2.      lepton 1 eta\n",
        "3.      lepton 1 phi\n",
        "4.      lepton 2 pT\n",
        "5.      lepton 2 eta\n",
        "6.      lepton 2 phi\n",
        "7.      missing energy magnitude\n",
        "8.      missing energy phi\n",
        "9.      MET_rel\n",
        "10.   axial MET\n",
        "11.   M_R\n",
        "12.   M_TR_2\n",
        "13.   R\n",
        "14.   MT2\n",
        "15.   S_R\n",
        "16.   M_Delta_R\n",
        "17.   dPhi_r_b\n",
        "18.   cos(theta_r1)\n",
        "\n",
        "### **Dataset Summary:**\n",
        " \n",
        "**Task:**\n",
        "Classification\n",
        "\n",
        "**Number of Instances:**\n",
        "5,000,000\n",
        "\n",
        "**Area:**\n",
        "Particle Physics\n",
        "\n",
        "**Attribute Characteristics:**\n",
        "Real (Floating Point)\n",
        "\n",
        "**Number of Attributes:**\n",
        "18\n",
        "\n",
        "**Year:**\n",
        "2014\n",
        "\n",
        "**Compressed size:**\n",
        "879MB\n",
        "\n",
        "**Uncompressed size**:\n",
        "2.23GB\n",
        "\n",
        "**Missing values:**\n",
        "None\n",
        "\n",
        "\n",
        "\n"
      ]
    },
    {
      "cell_type": "markdown",
      "metadata": {
        "id": "UZNA_eNGSYWw"
      },
      "source": [
        "We load the dataset and examine the first 5 records.\n"
      ]
    },
    {
      "cell_type": "code",
      "metadata": {
        "id": "7WquOMVaatkE",
        "outputId": "d0a773a2-b3c1-4717-daec-ceb013aa56a9",
        "colab": {
          "base_uri": "https://localhost:8080/",
          "height": 383
        }
      },
      "source": [
        "from google.colab import drive \n",
        "import numpy as np\n",
        "import pandas as pd\n",
        "import seaborn as sns\n",
        "from sklearn.cluster import KMeans\n",
        "import matplotlib.pyplot as plt\n",
        "drive.mount('/content/gdrive')\n",
        "df = pd.read_csv('/content/gdrive/My Drive/data mining assn/SUSY.csv', header=None)\n",
        "df.head()"
      ],
      "execution_count": null,
      "outputs": [
        {
          "output_type": "stream",
          "text": [
            "Go to this URL in a browser: https://accounts.google.com/o/oauth2/auth?client_id=947318989803-6bn6qk8qdgf4n4g3pfee6491hc0brc4i.apps.googleusercontent.com&redirect_uri=urn%3aietf%3awg%3aoauth%3a2.0%3aoob&response_type=code&scope=email%20https%3a%2f%2fwww.googleapis.com%2fauth%2fdocs.test%20https%3a%2f%2fwww.googleapis.com%2fauth%2fdrive%20https%3a%2f%2fwww.googleapis.com%2fauth%2fdrive.photos.readonly%20https%3a%2f%2fwww.googleapis.com%2fauth%2fpeopleapi.readonly\n",
            "\n",
            "Enter your authorization code:\n",
            "··········\n",
            "Mounted at /content/gdrive\n"
          ],
          "name": "stdout"
        },
        {
          "output_type": "execute_result",
          "data": {
            "text/html": [
              "<div>\n",
              "<style scoped>\n",
              "    .dataframe tbody tr th:only-of-type {\n",
              "        vertical-align: middle;\n",
              "    }\n",
              "\n",
              "    .dataframe tbody tr th {\n",
              "        vertical-align: top;\n",
              "    }\n",
              "\n",
              "    .dataframe thead th {\n",
              "        text-align: right;\n",
              "    }\n",
              "</style>\n",
              "<table border=\"1\" class=\"dataframe\">\n",
              "  <thead>\n",
              "    <tr style=\"text-align: right;\">\n",
              "      <th></th>\n",
              "      <th>0</th>\n",
              "      <th>1</th>\n",
              "      <th>2</th>\n",
              "      <th>3</th>\n",
              "      <th>4</th>\n",
              "      <th>5</th>\n",
              "      <th>6</th>\n",
              "      <th>7</th>\n",
              "      <th>8</th>\n",
              "      <th>9</th>\n",
              "      <th>10</th>\n",
              "      <th>11</th>\n",
              "      <th>12</th>\n",
              "      <th>13</th>\n",
              "      <th>14</th>\n",
              "      <th>15</th>\n",
              "      <th>16</th>\n",
              "      <th>17</th>\n",
              "      <th>18</th>\n",
              "    </tr>\n",
              "  </thead>\n",
              "  <tbody>\n",
              "    <tr>\n",
              "      <th>0</th>\n",
              "      <td>0.0</td>\n",
              "      <td>0.972861</td>\n",
              "      <td>0.653855</td>\n",
              "      <td>1.176225</td>\n",
              "      <td>1.157156</td>\n",
              "      <td>-1.739873</td>\n",
              "      <td>-0.874309</td>\n",
              "      <td>0.567765</td>\n",
              "      <td>-0.175000</td>\n",
              "      <td>0.810061</td>\n",
              "      <td>-0.252552</td>\n",
              "      <td>1.921887</td>\n",
              "      <td>0.889637</td>\n",
              "      <td>0.410772</td>\n",
              "      <td>1.145621</td>\n",
              "      <td>1.932632</td>\n",
              "      <td>0.994464</td>\n",
              "      <td>1.367815</td>\n",
              "      <td>0.040714</td>\n",
              "    </tr>\n",
              "    <tr>\n",
              "      <th>1</th>\n",
              "      <td>1.0</td>\n",
              "      <td>1.667973</td>\n",
              "      <td>0.064191</td>\n",
              "      <td>-1.225171</td>\n",
              "      <td>0.506102</td>\n",
              "      <td>-0.338939</td>\n",
              "      <td>1.672543</td>\n",
              "      <td>3.475464</td>\n",
              "      <td>-1.219136</td>\n",
              "      <td>0.012955</td>\n",
              "      <td>3.775174</td>\n",
              "      <td>1.045977</td>\n",
              "      <td>0.568051</td>\n",
              "      <td>0.481928</td>\n",
              "      <td>0.000000</td>\n",
              "      <td>0.448410</td>\n",
              "      <td>0.205356</td>\n",
              "      <td>1.321893</td>\n",
              "      <td>0.377584</td>\n",
              "    </tr>\n",
              "    <tr>\n",
              "      <th>2</th>\n",
              "      <td>1.0</td>\n",
              "      <td>0.444840</td>\n",
              "      <td>-0.134298</td>\n",
              "      <td>-0.709972</td>\n",
              "      <td>0.451719</td>\n",
              "      <td>-1.613871</td>\n",
              "      <td>-0.768661</td>\n",
              "      <td>1.219918</td>\n",
              "      <td>0.504026</td>\n",
              "      <td>1.831248</td>\n",
              "      <td>-0.431385</td>\n",
              "      <td>0.526283</td>\n",
              "      <td>0.941514</td>\n",
              "      <td>1.587535</td>\n",
              "      <td>2.024308</td>\n",
              "      <td>0.603498</td>\n",
              "      <td>1.562374</td>\n",
              "      <td>1.135454</td>\n",
              "      <td>0.180910</td>\n",
              "    </tr>\n",
              "    <tr>\n",
              "      <th>3</th>\n",
              "      <td>1.0</td>\n",
              "      <td>0.381256</td>\n",
              "      <td>-0.976145</td>\n",
              "      <td>0.693152</td>\n",
              "      <td>0.448959</td>\n",
              "      <td>0.891753</td>\n",
              "      <td>-0.677328</td>\n",
              "      <td>2.033060</td>\n",
              "      <td>1.533041</td>\n",
              "      <td>3.046260</td>\n",
              "      <td>-1.005285</td>\n",
              "      <td>0.569386</td>\n",
              "      <td>1.015211</td>\n",
              "      <td>1.582217</td>\n",
              "      <td>1.551914</td>\n",
              "      <td>0.761215</td>\n",
              "      <td>1.715464</td>\n",
              "      <td>1.492257</td>\n",
              "      <td>0.090719</td>\n",
              "    </tr>\n",
              "    <tr>\n",
              "      <th>4</th>\n",
              "      <td>1.0</td>\n",
              "      <td>1.309996</td>\n",
              "      <td>-0.690089</td>\n",
              "      <td>-0.676259</td>\n",
              "      <td>1.589283</td>\n",
              "      <td>-0.693326</td>\n",
              "      <td>0.622907</td>\n",
              "      <td>1.087562</td>\n",
              "      <td>-0.381742</td>\n",
              "      <td>0.589204</td>\n",
              "      <td>1.365479</td>\n",
              "      <td>1.179295</td>\n",
              "      <td>0.968218</td>\n",
              "      <td>0.728563</td>\n",
              "      <td>0.000000</td>\n",
              "      <td>1.083158</td>\n",
              "      <td>0.043429</td>\n",
              "      <td>1.154854</td>\n",
              "      <td>0.094859</td>\n",
              "    </tr>\n",
              "  </tbody>\n",
              "</table>\n",
              "</div>"
            ],
            "text/plain": [
              "    0         1         2         3   ...        15        16        17        18\n",
              "0  0.0  0.972861  0.653855  1.176225  ...  1.932632  0.994464  1.367815  0.040714\n",
              "1  1.0  1.667973  0.064191 -1.225171  ...  0.448410  0.205356  1.321893  0.377584\n",
              "2  1.0  0.444840 -0.134298 -0.709972  ...  0.603498  1.562374  1.135454  0.180910\n",
              "3  1.0  0.381256 -0.976145  0.693152  ...  0.761215  1.715464  1.492257  0.090719\n",
              "4  1.0  1.309996 -0.690089 -0.676259  ...  1.083158  0.043429  1.154854  0.094859\n",
              "\n",
              "[5 rows x 19 columns]"
            ]
          },
          "metadata": {
            "tags": []
          },
          "execution_count": 1
        }
      ]
    },
    {
      "cell_type": "code",
      "metadata": {
        "id": "gJO6xJsqigLg",
        "outputId": "fc37ae52-57ad-406f-e3bb-6f65aa6102bb",
        "colab": {
          "base_uri": "https://localhost:8080/",
          "height": 34
        }
      },
      "source": [
        "print(df.values.shape)"
      ],
      "execution_count": null,
      "outputs": [
        {
          "output_type": "stream",
          "text": [
            "(5000000, 19)\n"
          ],
          "name": "stdout"
        }
      ]
    },
    {
      "cell_type": "markdown",
      "metadata": {
        "id": "COKPwiu8I_R4"
      },
      "source": [
        "**Histograms**\n",
        "\n",
        "We make histograms of the number of labels and the features with buckets of featuer/label values showing the number of points belonging to a particular range of feature values. We do this to get an idea about the rough distribution of data. We make observations from the histograms and decide our further approach based on them."
      ]
    },
    {
      "cell_type": "code",
      "metadata": {
        "id": "nbkeIzYZkMbl",
        "outputId": "0b550d83-3d59-44cf-f824-30bb2097a3ea",
        "colab": {
          "base_uri": "https://localhost:8080/",
          "height": 489
        }
      },
      "source": [
        "print(df[df.columns[0:1]].describe())\n",
        "df[df.columns[0:1]].hist(figsize=(5, 5), bins=5, xlabelsize=8, ylabelsize=8);"
      ],
      "execution_count": null,
      "outputs": [
        {
          "output_type": "stream",
          "text": [
            "                  0\n",
            "count  5.000000e+06\n",
            "mean   4.575654e-01\n",
            "std    4.981961e-01\n",
            "min    0.000000e+00\n",
            "25%    0.000000e+00\n",
            "50%    0.000000e+00\n",
            "75%    1.000000e+00\n",
            "max    1.000000e+00\n"
          ],
          "name": "stdout"
        },
        {
          "output_type": "display_data",
          "data": {
            "image/png": "[encoded data removed]",
            "text/plain": [
              "<Figure size 360x360 with 1 Axes>"
            ]
          },
          "metadata": {
            "tags": []
          }
        }
      ]
    },
    {
      "cell_type": "markdown",
      "metadata": {
        "id": "XXj1MMydvG2x"
      },
      "source": [
        "Here we see that the number of both 0 and 1 labels are almost equally distributed. As the mean is ~0.46 this further reassures this fact. Also the std. deviation is ~0.5 and Variance ~0.25.\n",
        " "
      ]
    },
    {
      "cell_type": "code",
      "metadata": {
        "id": "vidrccUWwJzL",
        "outputId": "161c0cf7-6a55-4d1b-a940-5d37418e8484",
        "colab": {
          "base_uri": "https://localhost:8080/",
          "height": 1000
        }
      },
      "source": [
        "print(df[df.columns[1:19]].describe())\n",
        "df[df.columns[1:19]].hist(figsize=(20, 20), bins=100, xlabelsize=8, ylabelsize=8);"
      ],
      "execution_count": null,
      "outputs": [
        {
          "output_type": "stream",
          "text": [
            "                 1             2   ...            17            18\n",
            "count  5.000000e+06  5.000000e+06  ...  5.000000e+06  5.000000e+06\n",
            "mean   1.000318e+00  2.192580e-05  ...  9.994852e-01  2.249139e-01\n",
            "std    6.873341e-01  1.003107e+00  ...  4.360948e-01  1.969804e-01\n",
            "min    2.548815e-01 -2.102927e+00  ...  3.211849e-07  4.172130e-08\n",
            "25%    5.624837e-01 -7.573512e-01  ...  6.879128e-01  6.908188e-02\n",
            "50%    7.915511e-01  1.342127e-04  ...  1.094396e+00  1.672500e-01\n",
            "75%    1.204413e+00  7.576486e-01  ...  1.369183e+00  3.303652e-01\n",
            "max    2.055345e+01  2.101605e+00  ...  1.591660e+00  1.000000e+00\n",
            "\n",
            "[8 rows x 18 columns]\n"
          ],
          "name": "stdout"
        },
        {
          "output_type": "display_data",
          "data": {
            "image/png": "[encoded data removed]",
            "text/plain": [
              "<Figure size 1440x1440 with 20 Axes>"
            ]
          },
          "metadata": {
            "tags": []
          }
        }
      ]
    },
    {
      "cell_type": "markdown",
      "metadata": {
        "id": "t3pN_OCAxjak"
      },
      "source": [
        "Here, we see that features in columns 3,6,8 are almost evenly distributed along their range i.e. [-1.5,1.5]. Hence, we try to plot these separately to analyse them better for any *outliers*. \n",
        "We also observe that the feature in column 14 has an abnormally high mode at the value 0 we analyse this further by making *box plot and finding their mean, mode, quartiles.*\n",
        "We see that features in column 2 and 5 are distributed similarly in [-2,2] so\n",
        "We further check their correlation which should be high. \n",
        "\n",
        "**Box plot to identify outliers**"
      ]
    },
    {
      "cell_type": "code",
      "metadata": {
        "id": "siRTJrKm9yoR",
        "outputId": "823df0ab-8f79-43b5-f4cb-9d577f47c03a",
        "colab": {
          "base_uri": "https://localhost:8080/",
          "height": 1000
        }
      },
      "source": [
        "print(df[[3,6,8]].describe())\n",
        "for i in [3,6,8, 14]:\n",
        "  plt.figure(figsize=(4,4))\n",
        "  sns.boxplot(df[[i]], orient='v')"
      ],
      "execution_count": null,
      "outputs": [
        {
          "output_type": "stream",
          "text": [
            "                  3             6             8\n",
            "count  5.000000e+06  5.000000e+06  5.000000e+06\n",
            "mean  -4.994657e-05 -1.972243e-05  3.542352e-05\n",
            "std    1.001670e+00  1.001631e+00  1.001654e+00\n",
            "min   -1.734789e+00 -1.734202e+00 -1.727117e+00\n",
            "25%   -8.673567e-01 -8.683741e-01 -8.661510e-01\n",
            "50%   -3.880155e-04  2.006134e-04 -9.172642e-03\n",
            "75%    8.670981e-01  8.674778e-01  8.687620e-01\n",
            "max    1.734839e+00  1.734686e+00  1.740689e+00\n"
          ],
          "name": "stdout"
        },
        {
          "output_type": "display_data",
          "data": {
            "image/png": "[encoded data removed]",
            "text/plain": [
              "<Figure size 288x288 with 1 Axes>"
            ]
          },
          "metadata": {
            "tags": []
          }
        },
        {
          "output_type": "display_data",
          "data": {
            "image/png": "[encoded data removed]",
            "text/plain": [
              "<Figure size 288x288 with 1 Axes>"
            ]
          },
          "metadata": {
            "tags": []
          }
        },
        {
          "output_type": "display_data",
          "data": {
            "image/png": "[encoded data removed]",
            "text/plain": [
              "<Figure size 288x288 with 1 Axes>"
            ]
          },
          "metadata": {
            "tags": []
          }
        },
        {
          "output_type": "display_data",
          "data": {
            "image/png": "[encoded data removed]",
            "text/plain": [
              "<Figure size 288x288 with 1 Axes>"
            ]
          },
          "metadata": {
            "tags": []
          }
        }
      ]
    },
    {
      "cell_type": "markdown",
      "metadata": {
        "id": "NtRKfhxqJIgQ"
      },
      "source": [
        "Here we observe that, there are no outliers in the features in column 3,6,8 and every point lies in the interval [-1.5, 1.5].\n",
        "We also see that the number of point with the value of feature 14 as 0 are as much as half. As the mean is 1 and the values lie between 0 and 2. But we see that the variation is quite significant as the std. deviation is ~0.86."
      ]
    },
    {
      "cell_type": "markdown",
      "metadata": {
        "id": "wM0pwLV2AIwF"
      },
      "source": [
        "We now see the correlation of different features with the label so find out the important features and filter out the non-important features. Correlation helps us identify linear relationship between two variables. If the abs value of corr is high, that means the variables have strong linear dependence. We try to filter out the features by observing their correlation with the labels. For non-linear relationship, we further make scatter plots in the next section."
      ]
    },
    {
      "cell_type": "code",
      "metadata": {
        "id": "0_VviBNvAXiT",
        "outputId": "bbdb88aa-c4f3-4c32-8f1d-355986427117",
        "colab": {
          "base_uri": "https://localhost:8080/",
          "height": 625
        }
      },
      "source": [
        "df_corr = df.corr()[[0]][1:19]\n",
        "print(df_corr.sort_values(by=0,ascending=False))\n",
        "\n"
      ],
      "execution_count": null,
      "outputs": [
        {
          "output_type": "stream",
          "text": [
            "           0\n",
            "7   0.438821\n",
            "12  0.423030\n",
            "1   0.387397\n",
            "9   0.282778\n",
            "16  0.272992\n",
            "18  0.268780\n",
            "11  0.266589\n",
            "15  0.258326\n",
            "4   0.194794\n",
            "13  0.111937\n",
            "14  0.079421\n",
            "10  0.077078\n",
            "17  0.032656\n",
            "5   0.000380\n",
            "8   0.000110\n",
            "6  -0.000099\n",
            "2  -0.000328\n",
            "3  -0.000462\n"
          ],
          "name": "stdout"
        }
      ]
    },
    {
      "cell_type": "markdown",
      "metadata": {
        "id": "pZ_aKSMiHNq2"
      },
      "source": [
        "We see that the features in columns 7, 12, 1, 9, 16, 11, 15, 4, 13 have absolute value of correlation coeff >0.1 where as others < 0.1 \n",
        "\n",
        "But, correlation by itself does not always explain the relationship between data so ploting them could even lead us to new insights and in the same manner, check that our correlated values have a linear relationship to the Label.\n",
        "For example, relationships such as curvilinear relationship cannot be guessed just by looking at the correlation value so lets take the features we excluded from our correlation table and plot them to see if they show some kind of pattern.\n",
        "\n",
        "So we now make scatter plots of labels vs individual features, to inspect any non-linear relationship between the two.\n",
        "\n",
        "**Scatter Plots of labels vs feature values to identify non-linear relationship**"
      ]
    },
    {
      "cell_type": "code",
      "metadata": {
        "id": "hLaNcZaDKN7v",
        "outputId": "4d1ba5ac-377e-4875-d8f6-84e4ddf522f8",
        "colab": {
          "base_uri": "https://localhost:8080/",
          "height": 1000
        }
      },
      "source": [
        "for i in range(1, len(df.columns), 3):\n",
        "    sns.pairplot(data=df,\n",
        "                x_vars=df.columns[i:i+3],\n",
        "                y_vars=[0])"
      ],
      "execution_count": null,
      "outputs": [
        {
          "output_type": "display_data",
          "data": {
            "image/png": "[encoded data removed]",
            "text/plain": [
              "<Figure size 540x180 with 3 Axes>"
            ]
          },
          "metadata": {
            "tags": []
          }
        },
        {
          "output_type": "display_data",
          "data": {
            "image/png": "[encoded data removed]",
            "text/plain": [
              "<Figure size 540x180 with 3 Axes>"
            ]
          },
          "metadata": {
            "tags": []
          }
        },
        {
          "output_type": "display_data",
          "data": {
            "image/png": "[encoded data removed]",
            "text/plain": [
              "<Figure size 540x180 with 3 Axes>"
            ]
          },
          "metadata": {
            "tags": []
          }
        },
        {
          "output_type": "display_data",
          "data": {
            "image/png": "[encoded data removed]",
            "text/plain": [
              "<Figure size 540x180 with 3 Axes>"
            ]
          },
          "metadata": {
            "tags": []
          }
        },
        {
          "output_type": "display_data",
          "data": {
            "image/png": "[encoded data removed]",
            "text/plain": [
              "<Figure size 540x180 with 3 Axes>"
            ]
          },
          "metadata": {
            "tags": []
          }
        },
        {
          "output_type": "display_data",
          "data": {
            "image/png": "[encoded data removed]",
            "text/plain": [
              "<Figure size 540x180 with 3 Axes>"
            ]
          },
          "metadata": {
            "tags": []
          }
        }
      ]
    },
    {
      "cell_type": "markdown",
      "metadata": {
        "id": "Kwl-Cmp0UTCS"
      },
      "source": [
        "Hence, we observe that the value of labels occur almost independently for the features in 17,5,8,6,2,3 which are also supported by the correlation of these features with labels being very low. But we also see that, there exists no non-linear realtion ship as well between these features and labels by observing the above plotted graphs."
      ]
    },
    {
      "cell_type": "markdown",
      "metadata": {
        "id": "YPpPq6dqJVjB"
      },
      "source": [
        "**Correlation Matrix**\n",
        "A correlation matrix is a table showing correlation coefficients between variables. Each cell i, j in the matrix shows the correlation between two variables xi and xj. A correlation matrix is used to summarize data, as an input into a more advanced analysis, and as a diagnostic for advanced analyses.\n",
        "Correlation is usually defined as a measure of the linear relationship between two quantitative variables (e.g., height and weight). Often a slightly looser definition is used, whereby correlation simply means that there is some type of relationship between two variables.\n",
        "\n",
        "**Pearson’s Product-Moment Correlation**\n",
        "\n",
        "The most common measure of correlation is Pearson’s product-moment correlation, which is commonly referred to simply as the correlation.\n",
        "1. A correlation of 1 indicates a perfect positive correlation.\n",
        "2. A correlation of -1 indicates a perfect negative correlation.\n",
        "3. A correlation of 0 indicates that there is no relationship between the different variables.\n",
        "4. Values between -1 and 1 denote the strength of the correlation\n",
        "A correlation matrix is a table showing correlation coefficients between variables. Each cell in the table shows the correlation between two variables. A correlation matrix is used to summarize data, as an input into a more advanced analysis, and as a diagnostic for advanced analyses.\n",
        "It is given by the following equation : \n",
        "$$\\rho_{X,Y} = \\frac{E[(X-\\mu_X)(Y-\\mu_Y)]}{\\sigma_X\\sigma_Y}$$"
      ]
    },
    {
      "cell_type": "code",
      "metadata": {
        "id": "SjXlMSUYMJx-",
        "outputId": "e5bc7a8c-6a97-44d1-ef86-1247ee2a2ab8",
        "colab": {
          "base_uri": "https://localhost:8080/",
          "height": 487
        }
      },
      "source": [
        "corr = df.drop(0, axis=1).corr() # We already examined Label correlations\n",
        "plt.figure(figsize=(10, 8))\n",
        "\n",
        "sns.heatmap(corr[(corr >= 0.5) | (corr <= -0.5)], \n",
        "            cmap='viridis', vmax=1.0, vmin=-1.0, linewidths=0.1,\n",
        "            annot=True, annot_kws={\"size\": 8}, square=True);"
      ],
      "execution_count": null,
      "outputs": [
        {
          "output_type": "display_data",
          "data": {
            "image/png": "[encoded data removed]",
            "text/plain": [
              "<Figure size 720x576 with 2 Axes>"
            ]
          },
          "metadata": {
            "tags": []
          }
        }
      ]
    },
    {
      "cell_type": "markdown",
      "metadata": {
        "id": "ZP4OK9PjQBeh"
      },
      "source": [
        "Here, we observe that Feature in column 15 is strongly correlated with columns 1, 4 with corr coeff 0f ~0.8 and column 11 with corr coeff of 0.98 hence we can drop off column 15 as column 11 is more strongly correlated with the labels from above observation.\n",
        "We also see that coumn 14 is strongly correlated to column 16, but since column 16 has much higher correlation with Labels, we can drop off column 14.\n",
        "We also see that columns 1 and 11 are also very strongly correlated but we can not drop off any of them as both are correlated with labels. So is with column 4 and 11. Hence, we can now boil down out important features to [7,12,1,9,16, 11,4,13]"
      ]
    },
    {
      "cell_type": "markdown",
      "metadata": {
        "id": "iBi258tLJrjQ"
      },
      "source": [
        "**PCA**\n",
        "\n",
        "PCA is used for demensionality reduction. It finds a new set of dimensions (or a set of basis of views) such that all the dimensions are orthogonal (and hence linearly independent) and ranked according to the variance of data along them. It means more important principle\n",
        "axis occurs first. (more important = more variance/more spread out data).\n",
        "This can be formulated as an optimization problem as follows,\n",
        "\n",
        "$$w_{(k)} = arg\\,max_{\\Vert w \\Vert = 1} {\\Vert X_k w \\Vert^2} = arg\\,max {\\frac{w^T X^T_kX_kw}{w^Tw}}$$\n",
        "\n",
        "The solution to this equation is given by the eigen vectors of $X^TX$ where X is the data matrix. Note that features of X are zero mean normalized. \n"
      ]
    },
    {
      "cell_type": "code",
      "metadata": {
        "id": "Pkn1HMC9ZF7v",
        "outputId": "6b2dc875-4857-4696-ef92-597f543f3ea4",
        "colab": {
          "base_uri": "https://localhost:8080/",
          "height": 346
        }
      },
      "source": [
        "from sklearn.preprocessing import StandardScaler\n",
        "sc = StandardScaler()\n",
        "df_scaled = sc.fit_transform(df.drop(0))\n",
        "from sklearn.decomposition import PCA\n",
        "covar_matrix = PCA(n_components = 18)\n",
        "covar_matrix.fit(df_scaled)\n",
        "variance = covar_matrix.explained_variance_ratio_\n",
        "var=np.cumsum(np.round(covar_matrix.explained_variance_ratio_, decimals=3)*100)\n",
        "print(var)\n",
        "plt.ylabel('% Variance Explained')\n",
        "plt.xlabel('# of Features')\n",
        "plt.title('PCA Analysis')\n",
        "plt.ylim(30,100.5)\n",
        "plt.style.context('seaborn-whitegrid')\n",
        "plt.plot(var)"
      ],
      "execution_count": null,
      "outputs": [
        {
          "output_type": "stream",
          "text": [
            "[ 26.4  46.3  54.3  61.7  68.6  74.3  79.7  84.4  87.9  91.1  94.2  95.9\n",
            "  97.1  98.1  98.9  99.5  99.9 100.1]\n"
          ],
          "name": "stdout"
        },
        {
          "output_type": "execute_result",
          "data": {
            "text/plain": [
              "[<matplotlib.lines.Line2D at 0x7f1ee1939cc0>]"
            ]
          },
          "metadata": {
            "tags": []
          },
          "execution_count": 9
        },
        {
          "output_type": "display_data",
          "data": {
            "image/png": "[encoded data removed]",
            "text/plain": [
              "<Figure size 432x288 with 1 Axes>"
            ]
          },
          "metadata": {
            "tags": []
          }
        }
      ]
    },
    {
      "cell_type": "markdown",
      "metadata": {
        "id": "uETbd2XWYCcv"
      },
      "source": [
        "Based on the above graph it's clear that 11 features are able to explain the 95% of variation in data. Hence, we should pick 11 most important features based on the PCA of the given data."
      ]
    },
    {
      "cell_type": "markdown",
      "metadata": {
        "id": "Am7FSF5-Kk1u"
      },
      "source": [
        "**Clustering using K-Means algorithm**\n",
        "\n",
        "K-means is a type of unsupervised learning and one of the popular methods of clustering unlabelled data into k clusters. One of the trickier tasks in clustering is identifying the appropriate number of clusters k.The process begins with k centroids initialised at random.These centroids are used to assign points to its nearest cluster.The mean of all points within the cluster is then used to update the position of the centroids.\n",
        "The above steps are repeated until the values of the centroids stabilise.\n",
        "\n",
        "**Elbow Method to find out optimal value of k**\n",
        "\n",
        "For each k value, we will initialise k-means and use the **inertia attribute** which is the *sum of squared distances of samples to the nearest cluster centre.*This tells us the denseness of our clusters. As k increases, the sum of squared distance tends to zero. Imagine we set k to its maximum value n (where n is number of samples) each sample will form its own cluster meaning sum of squared distances equals zero.\n",
        "Below is a plot of sum of squared distances for k in the range specified above. If the plot looks like an arm, then the elbow on the arm is optimal k."
      ]
    },
    {
      "cell_type": "code",
      "metadata": {
        "id": "RLZfgpfYgK_k",
        "outputId": "6593a447-2ffa-46de-f572-93f21ea2f44c",
        "colab": {
          "base_uri": "https://localhost:8080/",
          "height": 171
        }
      },
      "source": [
        "from sklearn.cluster import KMeans\n",
        "Error =[]\n",
        "for i in range(1, 20):\n",
        "    print(i)\n",
        "    kmeans = KMeans(n_clusters = i).fit(df.drop(0))\n",
        "    Error.append(kmeans.inertia_)\n",
        "plt.plot(range(1, 11), Error)\n",
        "plt.title('Elbow method')\n",
        "plt.xlabel('No of clusters')\n",
        "plt.ylabel('Error')\n",
        "plt.show()"
      ],
      "execution_count": null,
      "outputs": [
        {
          "output_type": "stream",
          "text": [
            "1\n",
            "2\n",
            "3\n",
            "4\n",
            "5\n",
            "6\n",
            "7\n",
            "8\n",
            "9\n"
          ],
          "name": "stdout"
        }
      ]
    },
    {
      "cell_type": "markdown",
      "metadata": {
        "id": "B9MsECPZVtEC"
      },
      "source": [
        "The plot looks like this:\n",
        "![alt text]()\n",
        "From this plot, we can conclude that the optimal value of k is 9\n"
      ]
    },
    {
      "cell_type": "markdown",
      "metadata": {
        "id": "kgIcq31mR1Lv"
      },
      "source": [
        "# (III) **Supervised Machine Learning Techniques**\n",
        "\n",
        "In this section of the assignment, we aim to use the 18 features in the dataset to predict the target label, i.e. given a vector of features of physical measurements, predict whether the observation corresponds to a signal event or a background event. \n",
        "\n",
        "To begin with, we first prepare the dataset as follows:\n",
        "\n",
        "\n"
      ]
    },
    {
      "cell_type": "code",
      "metadata": {
        "id": "_W2-TYZ6FP46"
      },
      "source": [
        "from sklearn.utils import shuffle\n",
        "\n",
        "X = df.values[:,1:]\n",
        "y = df.values[:,0]\n",
        "\n",
        "#we shuffle the dataset as follows:\n",
        "X, y = shuffle(X, y)"
      ],
      "execution_count": null,
      "outputs": []
    },
    {
      "cell_type": "markdown",
      "metadata": {
        "id": "zqrN2OZHHGOC"
      },
      "source": [
        "## Decision Tree with Pruning\n",
        "\n",
        "Decision Tree is a simple tree-based classification method that builds a structure for taking decisions based on feature values. Each internal node represents a \"test\" on an attribute, each branch represents the outcome of the test, and each leaf node represents a class label (decision taken after computing all attributes). The paths from root to leaf represent classification rules.\n",
        "\n",
        "The question of how to build a decision tree is complex and many different algorithms have been proposed. The most popular ones are ID3 and CART. The sklearn implementation, which we have used in this assignment, uses a modified version of CART. (https://scikit-learn.org/stable/modules/tree.html)\n",
        "\n"
      ]
    },
    {
      "cell_type": "markdown",
      "metadata": {
        "id": "XNruKpckIN3n"
      },
      "source": [
        "For this method, we used the first 1,000,000 examples for training and validation, with a 20% split of examples for testing (after randomly shuffling the data). Due to lack of computational power and the large size of the dataset, along with the computational complexity of the method, we have not trained our model on the complete corpus of 5,000,000 data points. \n"
      ]
    },
    {
      "cell_type": "code",
      "metadata": {
        "id": "L_ZZlX1VIQ7T"
      },
      "source": [
        "from sklearn.tree import DecisionTreeClassifier\n",
        "from sklearn.model_selection import train_test_split\n",
        "\n",
        "X_train, X_test, y_train, y_test = train_test_split(X[:100000], y[:100000], test_size=0.2, random_state=0)\n",
        "\n",
        "\n",
        "clf = DecisionTreeClassifier(random_state=0)\n",
        "clf.fit(X_train, y_train)\n",
        "print(\"Training accuracy:\", clf.score(X_train, y_train))\n",
        "print(\"Testing accuracy:\", clf.score(X_test, y_test))\n"
      ],
      "execution_count": null,
      "outputs": []
    },
    {
      "cell_type": "markdown",
      "metadata": {
        "id": "r2xYryvYIdX6"
      },
      "source": [
        "As expected, we see that the decision tree has overfit on the training data. Even though it yields an accuracy of 100% on the training data, it exhibits poor performance on the test set yielding only 70% accuracy.\n",
        "\n",
        "The different methods of regularization in a decision tree are:\n",
        "1. Restricting the depth of the tree\n",
        "2. Having a minimum number of samples to be maintained at the leaf.\n",
        "3. Tree pruning\n",
        "\n",
        "We now examine how tree pruning can be used as an effective means of regularization. Since sklearn only provides methods of post-pruning, we use minimum cost complexity pruning."
      ]
    },
    {
      "cell_type": "markdown",
      "metadata": {
        "id": "pFAIZbCZIf70"
      },
      "source": [
        "### Minimum Cost Complexity Pruning\n",
        "\n",
        "In this algorithm, we use a parameter $\\alpha \\geq 0$, which is known as the complexity parameter. The complexity parameter is used to define the cost-complexity measure $R_{\\alpha}(T)$ of a given tree $T$,\n",
        "$$R_{\\alpha}(T) = R(T) + \\alpha |T|$$\n",
        "where $|T|$ is the number of terminal nodes in T and $R(T)$ is traditionally defined as the total misclassification rate of the terminal nodes. The objective of minimal cost-complexity pruning is to find the subtree of T that minimizes $R_{\\alpha}(T)$.\n",
        "\n",
        "The cost complexity of a single node is $R_{\\alpha}(t)= R(t) + \\alpha$. We define $T_t $ to be a tree with root as node. We define the effective $\\alpha$ of a node to be the value, for which $R_\\alpha(T_t) = R_\\alpha(t)$. The reasoning behind this is that, we are replacing subtrees at every level with a node, if the subtree and the node have the same effective complexity. Thus, we are effectively reducing the size of the tree. This effective value of $\\alpha$ is given by $$\\alpha_{eff}(t) = \\frac{R(t)-R(T_t)}{|T|-1}$$\n",
        "\n",
        "Now, we note that a non-terminal node with the smallest value of $\\alpha_{eff}$ is the weakest link that is to be pruned."
      ]
    },
    {
      "cell_type": "markdown",
      "metadata": {
        "id": "yefa_hIOIje9"
      },
      "source": [
        "We first obtain the values of effective alphas computed at every node. This is done by calling the `clf.cost_complexity_pruning_path` function"
      ]
    },
    {
      "cell_type": "code",
      "metadata": {
        "id": "AtILOEJkIkXi"
      },
      "source": [
        "path = clf.cost_complexity_pruning_path(X_train, y_train)\n",
        "ccp_alphas, impurities = path.ccp_alphas, path.impurities"
      ],
      "execution_count": null,
      "outputs": []
    },
    {
      "cell_type": "markdown",
      "metadata": {
        "id": "8FON0jtOIlge"
      },
      "source": [
        "We plot the ccp_alpha values vs the impurity at the node. With increasing value of $\\alpha$ we notice an increase in the impurity at the node, suggesting that these nodes are the most \"diverse\". However, we note the presence of high purity nodes at the lower values of `ccp_alpha`. This suggests that we need to prune using $\\alpha_{eff}$ values between 0 and 0.01."
      ]
    },
    {
      "cell_type": "code",
      "metadata": {
        "id": "hbwfr6x5IneM"
      },
      "source": [
        "fig, ax = plt.subplots()\n",
        "ax.plot(ccp_alphas[:-1], impurities[:-1], marker='o', drawstyle=\"steps-post\")\n",
        "ax.set_xlabel(\"effective alpha\")\n",
        "ax.set_ylabel(\"total impurity of leaves\")\n",
        "ax.set_title(\"Total Impurity vs effective alpha for training set\")"
      ],
      "execution_count": null,
      "outputs": []
    },
    {
      "cell_type": "markdown",
      "metadata": {
        "id": "VvYs3g3EIpRC"
      },
      "source": [
        "We examine the values of `ccp_alpha` between 5e-5 and 1e-3. We plot the training and test accuracies we obtain by restricting the effective alpha values at the different nodes\n"
      ]
    },
    {
      "cell_type": "code",
      "metadata": {
        "id": "VQU8JF1CIqhU"
      },
      "source": [
        "clfs = []\n",
        "\n",
        "ccp_alphas = np.linspace(0.00005, 0.001, 10)\n",
        "print(ccp_alphas.shape)\n",
        "for ccp_alpha in ccp_alphas:\n",
        "    print(\"Training with value: \", ccp_alpha)\n",
        "    clf = DecisionTreeClassifier(random_state=0, ccp_alpha=ccp_alpha)\n",
        "    clf.fit(X_train, y_train)\n",
        "    clfs.append(clf)\n"
      ],
      "execution_count": null,
      "outputs": []
    },
    {
      "cell_type": "code",
      "metadata": {
        "id": "1lVUEInIIrus"
      },
      "source": [
        "train_scores = [clf.score(X_train, y_train) for clf in clfs]\n",
        "test_scores = [clf.score(X_test, y_test) for clf in clfs]\n",
        "\n",
        "fig, ax = plt.subplots()\n",
        "ax.set_xlabel(\"alpha\")\n",
        "ax.set_ylabel(\"accuracy\")\n",
        "ax.set_title(\"Accuracy vs alpha for training and testing sets\")\n",
        "ax.plot(ccp_alphas, train_scores, marker='o', label=\"train\",\n",
        "        drawstyle=\"steps-post\")\n",
        "ax.plot(ccp_alphas, test_scores, marker='o', label=\"test\",\n",
        "        drawstyle=\"steps-post\")\n",
        "ax.legend()\n",
        "plt.show()"
      ],
      "execution_count": null,
      "outputs": []
    },
    {
      "cell_type": "markdown",
      "metadata": {
        "id": "HN8P7K_HIwJg"
      },
      "source": [
        "As we can notice from the graph, from lower values of $\\alpha$ we are in the overfitting regime (characterized by low training error and high testing error), while for higher values of $\\alpha$ we are in the underfitting regime (characterized by high training error and high testing error).\n",
        "\n",
        "Thus we obtain a sweet-spot for the value of $\\alpha$ at roughly 1.5e-4."
      ]
    },
    {
      "cell_type": "code",
      "metadata": {
        "id": "_bvDvkB_Ixyh"
      },
      "source": [
        "clf_final = DecisionTreeClassifier(random_state=0, ccp_alpha=1e-4)\n",
        "clf_final.fit(X_train, y_train)\n",
        "print(\"Training accuracy: \", clf_final.score(X_train, y_train))\n",
        "print(\"Test accuracy: \" , clf_final.score(X_test, y_test))\n"
      ],
      "execution_count": null,
      "outputs": []
    },
    {
      "cell_type": "markdown",
      "metadata": {
        "id": "JkdWEmxnIyvA"
      },
      "source": [
        "For this value of $\\alpha$ we obtain a test accuracy of 78%\n"
      ]
    },
    {
      "cell_type": "markdown",
      "metadata": {
        "id": "BvB8Cz81FPEP"
      },
      "source": [
        "## Random Forests\n",
        "The second method that we are going to examine is Random Forests. Random forests are an ensemble learning method for classification, regression and other tasks that operate by constructing a collection or 'forest' of decision trees at training time. They output the class that is the mode of the classes (classification) or mean prediction (regression) of the individual trees. Although similar to bagging with decision trees, the main difference is that, in random forests, the decision trees are built on a *random subset of features* as opposed to the complete feature set in bagging. This is done to ensure that the ensemble trees constructed are as uncorrelated as possible.\n",
        "\n",
        "In this assigment, we use the implementation of random forests from the Scikit-Learn Library. (https://scikit-learn.org/stable/modules/ensemble.html#forests-of-randomized-trees)\n",
        "\n",
        "As above, we have only used 1,000,000 out of the 5,000,000 datapoints in the corpus\n"
      ]
    },
    {
      "cell_type": "code",
      "metadata": {
        "id": "4mA27-krR4BC"
      },
      "source": [
        "\n",
        "from sklearn.ensemble import RandomForestClassifier\n",
        "from sklearn.model_selection import train_test_split\n",
        "\n",
        "X_train, X_test, y_train, y_test = train_test_split(X[:1000000], y[:1000000], test_size=0.2, random_state=0)\n",
        "\n",
        "#create a RandomForestClassifier with 5 estimators\n",
        "clf = RandomForestClassifier(n_estimators=5)\n",
        "clf.fit(X_train, y_train)\n",
        "\n",
        "print(\"Training done\")\n",
        "print(\"Training accuracy: \", clf.score(X_train, y_train))\n",
        "print(\"Test set accuracy: \", clf.score(X_test, y_test))"
      ],
      "execution_count": null,
      "outputs": []
    },
    {
      "cell_type": "markdown",
      "metadata": {
        "id": "ktfz1GZOc0WL"
      },
      "source": [
        "We notice that although a high training accuracy was obtained on our model, the test accuracy is comparitively poor. Hence, we need to generalize our model to prevent overfitting. We do so by increasing the bias and decreasing the variance.\n",
        "\n",
        "In this particular algorithm, the means of regularization in a Random Forest is by \n",
        "1. decreasing the number of estimators or decision trees.\n",
        "2. decreasing the maximum depth of the tree using the `max_depth` option.\n",
        "However, decreasing the number of estimators also decreases the model capacity, thus reducing the model's ability to learn relationships among the data effectively. Thus we regularize by decreasing the maximum depth of the trees.\n",
        "\n",
        "On varying the `max_depth` and increasing the number of estimators, we obtain the following results"
      ]
    },
    {
      "cell_type": "code",
      "metadata": {
        "id": "C8fUTgZ_dewW"
      },
      "source": [
        "val_acc = []\n",
        "tr_acc = []\n",
        "for depth in range(2, 20, 2): \n",
        "  clf = RandomForestClassifier(n_estimators=10, max_depth = depth)\n",
        "  clf.fit(X_train, y_train)\n",
        "  print(\"For depth = \", str(depth))\n",
        "  print(\"Training done\")\n",
        "  print(\"Training accuracy: \", clf.score(X_train, y_train))\n",
        "  print(\"Test set accuracy: \", clf.score(X_test, y_test))\n",
        "  val_acc.append(clf.score(X_test, y_test))\n",
        "  tr_acc.append(clf.score(X_train, y_train))\n",
        "  print()\n",
        "\n",
        "plt.plot(val_acc, label='Validation accuracy')\n",
        "plt.plot(tr_acc, label='Training accuracy')\n",
        "plt.xlabel(\"Max Depth\")\n",
        "plt.ylabel(\"Accuracy\")\n",
        "plt.legend()\n",
        "plt.show()"
      ],
      "execution_count": null,
      "outputs": []
    },
    {
      "cell_type": "markdown",
      "metadata": {
        "id": "k2tZLwhvEpD8"
      },
      "source": [
        "Thus we notice that for a random forest with 10 trees, we obtain the best results when the maximum depth is restricted to 14. The validation accuracy is 79.8%\n",
        "\n",
        "However, the major disadvantage is the prohibitively high training time. It takes a long time to train even a simple subset of the data.\n",
        "\n"
      ]
    },
    {
      "cell_type": "markdown",
      "metadata": {
        "id": "fmWORVbuSc64"
      },
      "source": [
        "## Naive Bayes\n",
        "\n",
        "In machine learning, naïve Bayes classifiers are a family of simple probabilistic classifiers based on applying Bayes' theorem with an assumption of strong (naïve) independence between the features. They are widely used in spam-mail classification systems.\n",
        "\n",
        "Given a feature vector $(x_1, x_2, ... x_n)$, the Naive Bayes framework outputs a probability $P(C|(x_1, x_2, ..., x_n))$. It uses the Bayes' rule, i.e\n",
        "$$P(C|x_k) \\propto P(x_k|C) P(C)$$\n",
        "along with the assumption of feature independence, i.e. $$P(x_1, x_2, ..., x_n|C) = P(x_1|C)P(x_2|C) ... P(x_n|C)$$\n",
        "\n",
        "For each of the $P(x_i|C)$ a parametric form of some distribution is assumed. During the training process, these parameters are calculated using the Maximum Likelihood Estimation technique, or some other parametric estimation procedure. \n",
        "\n",
        "In this assignment, we have used a Gaussian Naive Bayes classifier, i.e. the form assumed for the $P(x_i|C)$ is as follows:\n",
        "$$P(x_i|C) \\propto e ^ {(\\frac{-(x-\\mu)^2}{2\\sigma^2})}$$\n",
        "\n",
        "where the parameters $\\mu$ and $\\sigma$ are the $ML$ estimates from the data\n"
      ]
    },
    {
      "cell_type": "code",
      "metadata": {
        "id": "MG1QKjxNSeaH"
      },
      "source": [
        "from sklearn.naive_bayes import GaussianNB\n",
        "\n",
        "#we use the entire training data set, with a 20% split for testing set\n",
        "X_train, X_test, y_train, y_test = train_test_split(X, y, test_size=0.2, random_state=0)\n",
        "\n",
        "gnb = GaussianNB()\n",
        "gnb.fit(X_train, y_train)\n",
        "print(\"Training Accuracy: \", gnb.score(X_train, y_train))\n",
        "print(\"Testing Accuracy: \", gnb.score(X_test, y_test))"
      ],
      "execution_count": null,
      "outputs": []
    },
    {
      "cell_type": "markdown",
      "metadata": {
        "id": "sn0IqXW-HmeQ"
      },
      "source": [
        "Although we do not reach a high accuracy, achieving results of 73%, a few major observations stand out:\n",
        "1. Training time is very fast. Since the only calculations involved are calculating mean and variance for each class, along with frequency calculations, results are obtained almost instantaneously. This is despite the large number of training examples used (~5,000,000)\n",
        "2. There is no overfitting. Naive Bayes generalizes well\n",
        "3. There are no hyperparameters to tune. The algorithm runs deterministically and reports the same results with every run.\n",
        "\n",
        "Thus, it gives a good, quick baseline, trained on the entire dataset\n"
      ]
    },
    {
      "cell_type": "markdown",
      "metadata": {
        "id": "9odnJak4Sv1R"
      },
      "source": [
        "## KNN\n",
        "\n",
        "K-Nearest Neighbours or KNN is a type of non-generalizing learning. It simply stores the entire training data and doesn't attempt to to generate a $P$($x$,y) distribution. $K$ is a hyperparameter supplied by the user. The algorithm, when used to predict a new data point, computes the distance between the new data point and all the previously data points on which the model was trained. It then selects the k-nearest data points. A vote of their labels is taken and the majority label is assigned to the data point. \n",
        "\n",
        "We use a subset of the data consisting of 10000 data points since kNN is a slow algorithm, taking $O(mn)$ time for test set inference, where $m$ is the training set size and $n$ is the test set size.\n",
        "\n",
        "We plot the training and validation accuracy for different values of k and obtain the following results:"
      ]
    },
    {
      "cell_type": "code",
      "metadata": {
        "id": "PBilZ9aASwsW"
      },
      "source": [
        "from sklearn.model_selection import train_test_split\n",
        "from sklearn.neighbors import KNeighborsClassifier\n",
        "X_train, X_test, y_train, y_test = train_test_split(X[:10000], y[:10000], test_size=0.2, random_state=0)\n",
        "\n",
        "val_acc = []\n",
        "tr_acc = []\n",
        "\n",
        "for k in range(10, 30, 2):\n",
        "  clf = KNeighborsClassifier(k)\n",
        "  clf.fit(X_train, y_train)\n",
        "  print(\"Value of k: \", k)\n",
        "  print(\"Training accuracy: \", clf.score(X_train, y_train))\n",
        "  print(\"Validation accuracy: \", clf.score(X_test, y_test))\n",
        "  val_acc.append(clf.score(X_test, y_test))\n",
        "  tr_acc.append(clf.score(X_train, y_train))\n",
        "  print()\n",
        "\n",
        "plt.plot(range(10, 30, 2), val_acc, label='Validation accuracy')\n",
        "plt.plot(range(10, 30, 2), tr_acc, label='Training accuracy')\n",
        "plt.xlabel(\"k\")\n",
        "plt.ylabel(\"Accuracy\")\n",
        "plt.legend()\n",
        "plt.show()"
      ],
      "execution_count": null,
      "outputs": []
    },
    {
      "cell_type": "markdown",
      "metadata": {
        "id": "7mPIvwkoLK0E"
      },
      "source": [
        "Thus, we notice that the best results are obtained for k = 28, with test accuracy = 76%"
      ]
    },
    {
      "cell_type": "markdown",
      "metadata": {
        "id": "HRmWB6KvSGEn"
      },
      "source": [
        "## ANN\n",
        "Artificial Neural Network or ANN is one of the most popular algorithm for classification today. It is a sequence of layers made up of nodes. The nodes of each layer are interconnected to the ones in the layer before and after it. Each connection is also given a weight. The input is propagated in the forward direction through the model and based on the output and the correct label, the error is calculated and propagated backwards through the model to update the weights. The presence of activation functions give the neural network its exceptional ability to learn non-linear decision boundaries. We are using the `keras` library to create our ANN Model.\n"
      ]
    },
    {
      "cell_type": "code",
      "metadata": {
        "id": "w4RIP-ISSHqv"
      },
      "source": [
        "from keras.models import Sequential\n",
        "from keras.layers import Dense, Activation\n",
        "from keras import optimizers\n",
        "\n",
        "neurons = [50, 100, 200, 300]\n",
        "val_acc = []\n",
        "X_train, X_test, y_train, y_test = train_test_split(X, y, test_size=0.2, random_state=0)\n",
        "\n",
        "for hidden in neurons:\n",
        "  model = Sequential([\n",
        "      Dense(hidden, input_shape=(18,), activation='relu'),\n",
        "      Dense(hidden, activation='relu'),\n",
        "      Dense(hidden, activation = 'relu'),\n",
        "      Dense(1),\n",
        "      Activation('sigmoid'),\n",
        "  ])\n",
        "\n",
        "  adam = optimizers.Adam(lr=1e-3)\n",
        "\n",
        "  model.compile(optimizer=adam,\n",
        "                loss='binary_crossentropy',\n",
        "                metrics=['accuracy'])\n",
        "  model.fit(X_train, y_train, validation_split=0.2, epochs=10, batch_size=1024)\n",
        "  scores = model.evaluate(X_test, y_test)\n",
        "  val_acc.append(scores[1])"
      ],
      "execution_count": null,
      "outputs": []
    },
    {
      "cell_type": "code",
      "metadata": {
        "id": "oVljYQZSSLfd"
      },
      "source": [
        "plt.plot(neurons, val_acc, label='Validation accuracy')\n",
        "plt.xlabel(\"Number of neurons in the hidden layer\")\n",
        "plt.ylabel(\"Accuracy\")\n",
        "plt.legend()\n",
        "plt.show()"
      ],
      "execution_count": null,
      "outputs": []
    },
    {
      "cell_type": "markdown",
      "metadata": {
        "id": "RDPjMwhtbuLV"
      },
      "source": [
        "We observe that the best validaton accuracy is obtained when the number of hidden nodes are 200\n",
        "\n",
        "We now try to observe the effect of the activation function. We use the sigmoid activation function to check whether we get a better performance."
      ]
    },
    {
      "cell_type": "code",
      "metadata": {
        "id": "yvOB7MK3P3Kr"
      },
      "source": [
        "hidden = 200\n",
        "model = Sequential([\n",
        "      Dense(hidden, input_shape=(18,), activation='sigmoid'),\n",
        "      Dense(hidden, activation='sigmoid'),\n",
        "      Dense(hidden, activation = 'sigmoid'),\n",
        "      Dense(1),\n",
        "      Activation('sigmoid'),\n",
        "  ])\n",
        "\n",
        "adam = optimizers.Adam(lr=1e-3)\n",
        "\n",
        "model.compile(optimizer=adam,\n",
        "                loss='binary_crossentropy',\n",
        "                metrics=['accuracy'])\n",
        "model.fit(X_train, y_train, validation_split=0.2, epochs=10, batch_size=1024)\n",
        "scores = model.evaluate(X_test, y_test)\n",
        "print(\"Validation accuracy: \", scores[1])"
      ],
      "execution_count": null,
      "outputs": []
    },
    {
      "cell_type": "markdown",
      "metadata": {
        "id": "TSaAqsSfeWZc"
      },
      "source": [
        "We observe that we get a slightly lower performance using sigmoid as the activation function.\n"
      ]
    },
    {
      "cell_type": "markdown",
      "metadata": {
        "id": "zkSZG0nbSzsS"
      },
      "source": [
        "## Bagging with Trees\n",
        "Bagging is one of the ensemble methods, the goal of which is to combine the predictions of several base estimators built with a given learning algorithm in order to improve generalizability / robustness over a single estimator. Here, in the case of Bagging with Trees, our base estimator is a Decision Tree. Random subsets of the training data are selected(with replacement) with their entire set of features(as opposed to random forests) to train a number of Decision Trees and then their predictions are aggregated to form the final prediction. This model has less variance as opposed to a single Decision Tree.\n"
      ]
    },
    {
      "cell_type": "markdown",
      "metadata": {
        "id": "_ltLa3ROL67C"
      },
      "source": [
        "In this section, we use different number of decision trees to obtain the training and validation accuracy."
      ]
    },
    {
      "cell_type": "code",
      "metadata": {
        "id": "CPiyXtaaS0zG"
      },
      "source": [
        "from sklearn.model_selection import train_test_split\n",
        "from sklearn.ensemble import BaggingClassifier \n",
        "\n",
        "X_train, X_test, y_train, y_test = train_test_split(X[:100000], y[:100000], test_size=0.2, random_state=0)\n",
        "\n",
        "val_acc = []\n",
        "tr_acc = []\n",
        "\n",
        "for n_estimators in range(10, 50, 10):\n",
        "  bagging = BaggingClassifier(DecisionTreeClassifier(), max_samples=0.3, n_estimators=n_estimators).fit(X_train,y_train)\n",
        "  print(\"Number of estimators \", n_estimators)\n",
        "  val_acc.append(bagging.score(X_test, y_test))\n",
        "  tr_acc.append(bagging.score(X_train, y_train))\n",
        "  print(\"Training Accuracy: \", bagging.score(X_train, y_train))\n",
        "  print(\"Testing Accuracy: \", bagging.score(X_test, y_test))\n",
        "  "
      ],
      "execution_count": null,
      "outputs": []
    },
    {
      "cell_type": "code",
      "metadata": {
        "id": "0ajvAUcINX89"
      },
      "source": [
        "plt.plot(range(10, 50, 10), val_acc, label='Validation accuracy')\n",
        "plt.plot(range(10, 50, 10), tr_acc, label='Training accuracy')\n",
        "plt.xlabel(\"Number of estimators\")\n",
        "plt.ylabel(\"Accuracy\")\n",
        "plt.legend()\n",
        "plt.show()"
      ],
      "execution_count": null,
      "outputs": []
    },
    {
      "cell_type": "markdown",
      "metadata": {
        "id": "oaqz4Rh3NGys"
      },
      "source": [
        "# Results\n",
        "\n",
        "We obtain the following results on each of the different classification techniques we used:\n",
        "\n",
        "1. Decision tree with pruning: 78%\n",
        "2. Random Forests: 79.8%\n",
        "3. k-NN\n",
        "4. Naive Bayes: 73%\n",
        "5. Artificial Neural Networks: 80%\n",
        "6. Bagging with Decision Trees: 79.6%\n",
        "\n",
        "# Conclusions\n",
        "\n",
        "We perform EDA on the dataset and observe that out of the 18 features, out of which 11 features explained 95% of the variance. Although we don't have correlated features in the training set, this suggests that there is a degr\n",
        "\n",
        "\n",
        "We observe that we get roughly similar results on all datasets. This might be attributed to the label noise in the data-set itself, since even complex non-linear classifiers like neural networks do not yield better results than the other classifiers.\n",
        "\n",
        "The advantage of tree-based methods is the ease of interpretation and ability to explain the data well. However they are highly prone to overfitting. While methods like tree-pruning are effective, hyper-parameter tuning to choose the right parameter can be computationally expensive. \n",
        "\n",
        "Random Forests mark a slight improvement since it is an ensemble method that builds multiple decision trees at once on disjoint feature subsets. The trees are uncorrelated. However, we notice that they take a long time to train, even on a subset of the data.\n",
        "\n",
        "k-NN is a simplitic algorithm that does not scale well. It takes quadratic time during inference, and therefore is unsuitable for large datasets such as the one that we have used in this problem.\n",
        "\n",
        "Naive Bayes algorithm is quick and simple, but this advantage is also it's downside - it cannot fit the training data well. Training is almost instantaneous, however, it achieved the worst results out of all the methods.\n",
        "\n",
        "Neural Networks are complex machine learning models that employ gradient descent. They are considered state of the art for many problems today. In this problem, they achieved satisfactory results that matched the other training methods. They were also the only major method that could effectively use the entire training set.\n",
        "\n",
        "Bagging improved the performance of normal decision trees, and as expected gave better results with increasing number of estimators. However, even a small increase in performance comes at a cost of a large increase in model capacity and complexity. Thus, it can get cumbersome to train these models.\n",
        "\n",
        "\n",
        "# References\n",
        "1. Baldi, P., P. Sadowski, and D. Whiteson. “Searching for Exotic Particles in High-energy Physics with Deep Learning.” Nature Communications 5 (July 2, 2014)\n",
        "2. Decision Trees - https://scikit-learn.org/stable/index.html\n",
        "3. Pruning - https://scikit-learn.org/stable/auto_examples/tree/plot_cost_complexity_pruning.html#sphx-glr-auto-examples-tree-plot-cost-complexity-pruning-py\n",
        "4. Random Forests - https://scikit-learn.org/stable/modules/ensemble.html#forests-of-randomized-trees\n",
        "5. Naive Bayes - https://en.wikipedia.org/wiki/Naive_Bayes_classifier\n",
        "6. https://scikit-learn.org/stable/modules/naive_bayes.html\n",
        "7. kNN - https://scikit-learn.org/stable/modules/generated/sklearn.neighbors.KNeighborsClassifier.html\n",
        "8. Keras - https://keras.io/\n",
        "9. Bagging - https://scikit-learn.org/stable/modules/generated/sklearn.ensemble.BaggingClassifier.html\n",
        "10. PCA - https://en.wikipedia.org/wiki/Principal_component_analysis"
      ]
    },
    {
      "cell_type": "code",
      "metadata": {
        "id": "3s2lp8pYdWG1"
      },
      "source": [
        ""
      ],
      "execution_count": null,
      "outputs": []
    }
  ]
}